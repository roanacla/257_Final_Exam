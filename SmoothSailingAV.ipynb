{
  "nbformat": 4,
  "nbformat_minor": 0,
  "metadata": {
    "colab": {
      "name": "SmoothSailingAV.ipynb",
      "provenance": [],
      "machine_shape": "hm",
      "authorship_tag": "ABX9TyMPaxD812Ut+BdLadHcrX16",
      "include_colab_link": true
    },
    "kernelspec": {
      "name": "python3",
      "display_name": "Python 3"
    },
    "accelerator": "GPU"
  },
  "cells": [
    {
      "cell_type": "markdown",
      "metadata": {
        "id": "view-in-github",
        "colab_type": "text"
      },
      "source": [
        "<a href=\"https://colab.research.google.com/github/roanacla/257_Final_Exam/blob/main/SmoothSailingAV.ipynb\" target=\"_parent\"><img src=\"https://colab.research.google.com/assets/colab-badge.svg\" alt=\"Open In Colab\"/></a>"
      ]
    },
    {
      "cell_type": "markdown",
      "metadata": {
        "id": "ibxn0Z5m127G"
      },
      "source": [
        "# Environment Setup"
      ]
    },
    {
      "cell_type": "code",
      "metadata": {
        "id": "BeI9u-xyA-7L"
      },
      "source": [
        "from IPython.display import Image, clear_output"
      ],
      "execution_count": 1,
      "outputs": []
    },
    {
      "cell_type": "code",
      "metadata": {
        "colab": {
          "base_uri": "https://localhost:8080/"
        },
        "id": "xETwjdcu3rDo",
        "outputId": "ea2db9e7-ab94-4237-e91e-b799ccff129a"
      },
      "source": [
        "#UNSINTALL\n",
        "#Feature finders\n",
        "!pip uninstall -y xgboost\n",
        "clear_output()\n",
        "print('Success Uninstalling libraries')"
      ],
      "execution_count": 2,
      "outputs": [
        {
          "output_type": "stream",
          "text": [
            "Success Uninstalling libraries\n"
          ],
          "name": "stdout"
        }
      ]
    },
    {
      "cell_type": "code",
      "metadata": {
        "colab": {
          "base_uri": "https://localhost:8080/"
        },
        "id": "EWVyOfyY3ov_",
        "outputId": "4bbf6695-5851-48b9-d7a5-f908a8508b12"
      },
      "source": [
        "#WGET\n",
        "\n",
        "#Team Seakers\n",
        "!wget -O bertmodel https://www.dropbox.com/sh/r7hzurrs6a2x461/AABySI0lXYNT0OCwuXre_Qh1a?dl=0\n",
        "!unzip bertmodel\n",
        "\n",
        "#FEATURE FINDERS\n",
        "!wget https://mirrors.aliyun.com/pypi/packages/c1/24/5fe7237b2eca13ee0cfb100bec8c23f4e69ce9df852a64b0493d49dae4e0/xgboost-0.90-py2.py3-none-manylinux1_x86_64.whl#sha256=898f26bb66589c644d17deff1b03961504f7ad79296ed434d0d7a5e9cb4deae6\n",
        "\n",
        "clear_output()\n",
        "print('Success Downloading files')"
      ],
      "execution_count": 3,
      "outputs": [
        {
          "output_type": "stream",
          "text": [
            "Success Downloading files\n"
          ],
          "name": "stdout"
        }
      ]
    },
    {
      "cell_type": "code",
      "metadata": {
        "colab": {
          "base_uri": "https://localhost:8080/"
        },
        "id": "5itgK72D2GDh",
        "outputId": "512031fd-d8c2-40f9-8c18-abe4e12d03d7"
      },
      "source": [
        "# Install requirements\n",
        "!pip install -r requirements.txt\n",
        "\n",
        "#Blastoff\n",
        "!python -m spacy download en_core_web_lg\n",
        "# Sigma\n",
        "!python -m spacy download en_core_web_md\n",
        "\n",
        "clear_output()\n",
        "print('Success Installing Libraries')"
      ],
      "execution_count": 4,
      "outputs": [
        {
          "output_type": "stream",
          "text": [
            "Success Installing Libraries\n"
          ],
          "name": "stdout"
        }
      ]
    },
    {
      "cell_type": "code",
      "metadata": {
        "id": "-a7blI8t4f7c"
      },
      "source": [
        "#RESTART RUNTIME\n",
        "import os\n",
        "os.kill(os.getpid(), 9)\n",
        "\n",
        "clear_output()\n",
        "print('Success Restarting environment')"
      ],
      "execution_count": null,
      "outputs": []
    },
    {
      "cell_type": "markdown",
      "metadata": {
        "id": "Szn3j9U816Bv"
      },
      "source": [
        "# Download Repos"
      ]
    },
    {
      "cell_type": "code",
      "metadata": {
        "id": "HKAd_rjrAbTQ"
      },
      "source": [
        "from google_drive_downloader import GoogleDriveDownloader as gdd\n",
        "\n",
        "#Blastoff - Content Statistics\n",
        "!git clone https://github.com/Wayne122/Content_Statistics_Demo.git\n",
        "\n",
        "#Blastoff - Sensationalism\n",
        "!git clone https://github.com/roanacla/nlp_sensationalism.git\n",
        "\n",
        "#Blastoff - Context Veracity\n",
        "!git clone https://github.com/snarvekark/Veracity_Factor.git\n",
        "\n",
        "#GirlsWhoCode - Toxicity\n",
        "gdd.download_file_from_google_drive(file_id='1aNCQPXSpxnTUbqkO1Jvb7c2naTpaCkJ5',\n",
        "                                  dest_path='./toxicityclass1.py',\n",
        "                                  unzip=False)\n",
        "#GirlsWhoCode - Topics\n",
        "gdd.download_file_from_google_drive(file_id='1Fe9s1tzkxyI1AWqWTwhkhaZaGD34kLCz',\n",
        "                                  dest_path='./Topics_with_LDA_Bigram.py',\n",
        "                                  unzip=False)\n",
        "#GirlsWhoCode - Bias\n",
        "gdd.download_file_from_google_drive(file_id='18BVbpsbJ_JIWWzdKem1KJMcq89npmBNF',\n",
        "                                  dest_path='./bias.py',\n",
        "                                  unzip=False)\n",
        "\n",
        "#GirlsWhoCode - Political Afiliation\n",
        "gdd.download_file_from_google_drive(file_id='10BFSTGTiUtTTkq_FiA_ktbs0b05sUTp1',\n",
        "                                  dest_path='./girlswhocode_political_affiliation.py',\n",
        "                                  unzip=False)\n",
        "\n",
        "#Feature Finders - Stance Detection\n",
        "gdd.download_file_from_google_drive(file_id='1vmn6f-KE31jIZ2gANAm9bUV6BZvJ3HCC',\n",
        "                                  dest_path='./AlternusVeraStanceDetection.py',\n",
        "                                  unzip=False)\n",
        "\n",
        "#Feature Finders - Toxicity\n",
        "gdd.download_file_from_google_drive(file_id='1YmNAPeGwX3lGI_qrMIqWKTrhuEZ6wfGD',\n",
        "                                  dest_path='./alternusveratoxicity.py',\n",
        "                                  unzip=False)\n",
        "\n",
        "#Feature Finders - Reliable Source\n",
        "gdd.download_file_from_google_drive(file_id='14p0H4KIDNl8ICZKsC25vHvrarnlwzoiY',\n",
        "                                  dest_path='./AlternusVeraReliableSource.py',\n",
        "                                  unzip=False)\n",
        "\n",
        "#Feature Finders - Title vs Body\n",
        "gdd.download_file_from_google_drive(file_id='1CyMWLWWksLLKlDkqtdSQNBJNUnwirwYS',\n",
        "                                  dest_path='./team_features_finders_factor_title_vs_body.py',\n",
        "                                  unzip=False)\n",
        "\n",
        "#Team Seakers - BERTMCC\n",
        "gdd.download_file_from_google_drive(file_id='104z4L5oaSJuNOo8--j3HYVBIqKLy8kzT',\n",
        "                                  dest_path='seekers_bertmcc.py',\n",
        "                                  unzip=False)\n",
        "\n",
        "#Team Seakers - Stance Detection\n",
        "gdd.download_file_from_google_drive(file_id='18xB6HkP_hc8oHz2B8Gv2RctxST-dvl0l',\n",
        "                                  dest_path='seekers_stancedetection.py',\n",
        "                                  unzip=False)\n",
        "\n",
        "#Team Seakers - Click Bait\n",
        "gdd.download_file_from_google_drive(file_id='1bnMx6EnB5OCFemHnoyQJg6rDWFI02BPn',\n",
        "                                  dest_path='seekers_clickbait.py',\n",
        "                                  unzip=False\n",
        "\n",
        "#Team Seakers - Spam\n",
        "gdd.download_file_from_google_drive(file_id='1foTcE9fWF6aaEndSe_nNrWIPOh15jzCz',\n",
        "                                  dest_path='seekers_spam.py',\n",
        "                                  unzip=False"
      ],
      "execution_count": null,
      "outputs": []
    },
    {
      "cell_type": "code",
      "metadata": {
        "id": "6yc9Q96XNZiy"
      },
      "source": [
        "#Imports\n",
        "import torch\n",
        "import nltk\n",
        "nltk.download('wordnet')\n",
        "nltk.download('punkt')\n",
        "import math\n",
        "import pickle\n",
        "import time"
      ],
      "execution_count": null,
      "outputs": []
    },
    {
      "cell_type": "markdown",
      "metadata": {
        "id": "QHL9hWcX17qr"
      },
      "source": [
        "#Instantiate"
      ]
    },
    {
      "cell_type": "code",
      "metadata": {
        "id": "033XN2S9Gd84"
      },
      "source": [
        "#Blastoff - Content Statistics\n",
        "from Content_Statistics_Demo.Blastoff_Content_Statistics import BlastoffContentStatistics\n",
        "bcs = BlastoffContentStatistics()\n",
        "\n",
        "#Blastoff - Sensationalism\n",
        "from nlp_sensationalism.sensaScorer import SensaScorer\n",
        "sensa = SensaScorer()\n",
        "\n",
        "#Blastoff - Context Veracity\n",
        "from Veracity_Factor.context_veracity import Context_Veracity\n",
        "cv = Context_Veracity()\n",
        "\n",
        "#GirlsWhoCode - Toxicity\n",
        "from toxicityclass1 import GirlsWhoCode_Toxicity\n",
        "\n",
        "#GirlsWhoCode - Topics\n",
        "from Topics_with_LDA_Bigram import Topics_with_LDA_Bigram\n",
        "\n",
        "#GirlsWhoCode - Bias\n",
        "from bias import Gwc_Bias\n",
        "\n",
        "#GirlsWhoCode - Political Afiliation\n",
        "from girlswhocode_political_affiliation import Girlswhocode_PoliticalAfiiliation\n",
        "\n",
        "#Feature Finders - Stance Detection\n",
        "import AlternusVeraStanceDetection as sp\n",
        "predictStance = sp.StanceDitectionFeature()\n",
        "\n",
        "#Feature Finders - Toxicity\n",
        "import alternusveratoxicity as tx\n",
        "predictToxicity = tx.ToxicityFeature()\n",
        "\n",
        "#Feature Finders - Reliable Source\n",
        "import AlternusVeraReliableSource as rs\n",
        "reliablesource = rs.ReliableSource()\n",
        "\n",
        "#Feature Finders - Title vs Body\n",
        "LABELS = ['agree', 'disagree', 'discuss', 'unrelated']\n",
        "import team_features_finders_factor_title_vs_body as titlevsbody\n",
        "tvb = titlevsbody.TitleVsBody()\n",
        "\n",
        "#Team Seekers - BERT\n",
        "from seekers_bertmcc import Seekers_BertMcc\n",
        "\n",
        "#Team Seekers - Stance Detection\n",
        "from seekers_stancedetection import Seekers_StanceDetection\n",
        "\n",
        "#Team Seekers - ClickBait\n",
        "from seekers_clickbait import Seekers_ClickBait\n",
        "\n",
        "#Team Seekers - Spam\n",
        "from seekers_spam import Seekers_Spam\n"
      ],
      "execution_count": null,
      "outputs": []
    },
    {
      "cell_type": "markdown",
      "metadata": {
        "id": "uZ1FXU_sTeb5"
      },
      "source": [
        "# Before Poli"
      ]
    },
    {
      "cell_type": "code",
      "metadata": {
        "id": "W5u_4iKQTddb"
      },
      "source": [
        "#Feature finders\n",
        "\n",
        "# LABELS = ['agree', 'disagree', 'discuss', 'unrelated']\n",
        "def get_titleVsBodyScore(val): # input int, return between 0 and 1, being 0 = Fake,  1 = True\n",
        "    map = {'0': 1., '1': .2, '2': .8, '3': 0.}\n",
        "\n",
        "    return map[str(val)]\n",
        "\n"
      ],
      "execution_count": null,
      "outputs": []
    },
    {
      "cell_type": "markdown",
      "metadata": {
        "id": "PfTVRNjS195_"
      },
      "source": [
        "#Remove content"
      ]
    }
  ]
}