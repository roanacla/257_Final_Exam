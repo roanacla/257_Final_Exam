{
  "nbformat": 4,
  "nbformat_minor": 0,
  "metadata": {
    "colab": {
      "name": "SmoothSailingAV.ipynb",
      "provenance": [],
      "machine_shape": "hm",
      "authorship_tag": "ABX9TyPeAPqol6e3XYTWTk2eYnxT",
      "include_colab_link": true
    },
    "kernelspec": {
      "name": "python3",
      "display_name": "Python 3"
    },
    "accelerator": "GPU"
  },
  "cells": [
    {
      "cell_type": "markdown",
      "metadata": {
        "id": "view-in-github",
        "colab_type": "text"
      },
      "source": [
        "<a href=\"https://colab.research.google.com/github/roanacla/257_Final_Exam/blob/main/SmoothSailingAV.ipynb\" target=\"_parent\"><img src=\"https://colab.research.google.com/assets/colab-badge.svg\" alt=\"Open In Colab\"/></a>"
      ]
    },
    {
      "cell_type": "markdown",
      "metadata": {
        "id": "ibxn0Z5m127G"
      },
      "source": [
        "# Environment Setup"
      ]
    },
    {
      "cell_type": "code",
      "metadata": {
        "id": "BeI9u-xyA-7L"
      },
      "source": [
        "from IPython.display import Image, clear_output"
      ],
      "execution_count": 1,
      "outputs": []
    },
    {
      "cell_type": "code",
      "metadata": {
        "colab": {
          "base_uri": "https://localhost:8080/"
        },
        "id": "xETwjdcu3rDo",
        "outputId": "8a464e89-1846-444d-fd3e-c97ddfd50e93"
      },
      "source": [
        "#UNSINTALL\n",
        "#Feature finders\n",
        "!pip uninstall -y xgboost\n",
        "clear_output()\n",
        "print('Success Uninstalling libraries')"
      ],
      "execution_count": 2,
      "outputs": [
        {
          "output_type": "stream",
          "text": [
            "Success Uninstalling libraries\n"
          ],
          "name": "stdout"
        }
      ]
    },
    {
      "cell_type": "code",
      "metadata": {
        "colab": {
          "base_uri": "https://localhost:8080/"
        },
        "id": "EWVyOfyY3ov_",
        "outputId": "39d44a18-9a27-47f6-b2b3-df50ed705d42"
      },
      "source": [
        "#WGET\n",
        "\n",
        "#Team Seakers\n",
        "!wget -O bertmodel https://www.dropbox.com/sh/r7hzurrs6a2x461/AABySI0lXYNT0OCwuXre_Qh1a?dl=0\n",
        "!unzip bertmodel\n",
        "\n",
        "#FEATURE FINDERS\n",
        "!wget https://mirrors.aliyun.com/pypi/packages/c1/24/5fe7237b2eca13ee0cfb100bec8c23f4e69ce9df852a64b0493d49dae4e0/xgboost-0.90-py2.py3-none-manylinux1_x86_64.whl#sha256=898f26bb66589c644d17deff1b03961504f7ad79296ed434d0d7a5e9cb4deae6\n",
        "\n",
        "clear_output()\n",
        "print('Success Downloading files')"
      ],
      "execution_count": 3,
      "outputs": [
        {
          "output_type": "stream",
          "text": [
            "Success Downloading files\n"
          ],
          "name": "stdout"
        }
      ]
    },
    {
      "cell_type": "code",
      "metadata": {
        "colab": {
          "base_uri": "https://localhost:8080/"
        },
        "id": "QXWz4Ke5xF1x",
        "outputId": "a459da6a-b412-4a7e-9353-8c55601160a3"
      },
      "source": [
        "!pip install -r requirements.txt"
      ],
      "execution_count": 6,
      "outputs": [
        {
          "output_type": "stream",
          "text": [
            "Collecting git+https://github.com/abenassi/Google-Search-API (from -r requirements.txt (line 16))\n",
            "  Cloning https://github.com/abenassi/Google-Search-API to /tmp/pip-req-build-p0gicfim\n",
            "  Running command git clone -q https://github.com/abenassi/Google-Search-API /tmp/pip-req-build-p0gicfim\n",
            "Requirement already satisfied (use --upgrade to upgrade): Google-Search-API==1.1.14 from git+https://github.com/abenassi/Google-Search-API in /usr/local/lib/python3.6/dist-packages (from -r requirements.txt (line 16))\n",
            "Requirement already satisfied: nltk in /usr/local/lib/python3.6/dist-packages (from -r requirements.txt (line 1)) (3.2.5)\n",
            "Requirement already satisfied: spacy in /usr/local/lib/python3.6/dist-packages (from -r requirements.txt (line 2)) (2.2.4)\n",
            "Requirement already satisfied: googledrivedownloader in /usr/local/lib/python3.6/dist-packages (from -r requirements.txt (line 5)) (0.4)\n",
            "Requirement already satisfied: beautifulsoup4 in /usr/local/lib/python3.6/dist-packages (from -r requirements.txt (line 7)) (4.6.3)\n",
            "Requirement already satisfied: selenium<3.0.0,>=2.44.0 in /usr/local/lib/python3.6/dist-packages (from -r requirements.txt (line 8)) (2.53.6)\n",
            "Requirement already satisfied: requests in /usr/local/lib/python3.6/dist-packages (from -r requirements.txt (line 9)) (2.23.0)\n",
            "Requirement already satisfied: unidecode in /usr/local/lib/python3.6/dist-packages (from -r requirements.txt (line 10)) (1.1.1)\n",
            "Requirement already satisfied: vcrpy in /usr/local/lib/python3.6/dist-packages (from -r requirements.txt (line 11)) (4.1.1)\n",
            "Requirement already satisfied: future in /usr/local/lib/python3.6/dist-packages (from -r requirements.txt (line 12)) (0.16.0)\n",
            "Requirement already satisfied: fake-useragent in /usr/local/lib/python3.6/dist-packages (from -r requirements.txt (line 13)) (0.1.11)\n",
            "Requirement already satisfied: newspaper3k in /usr/local/lib/python3.6/dist-packages (from -r requirements.txt (line 14)) (0.2.8)\n",
            "Requirement already satisfied: ktrain in /usr/local/lib/python3.6/dist-packages (from -r requirements.txt (line 20)) (0.25.2)\n",
            "Requirement already satisfied: vaderSentiment in /usr/local/lib/python3.6/dist-packages (from -r requirements.txt (line 21)) (3.3.2)\n",
            "Requirement already satisfied: textstat in /usr/local/lib/python3.6/dist-packages (from -r requirements.txt (line 22)) (0.7.0)\n",
            "Requirement already satisfied: gensim in /usr/local/lib/python3.6/dist-packages (from -r requirements.txt (line 25)) (3.6.0)\n",
            "Requirement already satisfied: xgboost==0.90 from file:///content/xgboost-0.90-py2.py3-none-manylinux1_x86_64.whl in /usr/local/lib/python3.6/dist-packages (from -r requirements.txt (line 26)) (0.90)\n",
            "Requirement already satisfied: torch in /usr/local/lib/python3.6/dist-packages (from -r requirements.txt (line 30)) (1.7.0+cu101)\n",
            "Requirement already satisfied: transformers==3.3 in /usr/local/lib/python3.6/dist-packages (from -r requirements.txt (line 31)) (3.3.0)\n",
            "Requirement already satisfied: autogluon==0.0.15b20201205 in /usr/local/lib/python3.6/dist-packages (from -r requirements.txt (line 33)) (0.0.15b20201205)\n",
            "Requirement already satisfied: mxnet-cu100 in /usr/local/lib/python3.6/dist-packages (from -r requirements.txt (line 34)) (1.7.0)\n",
            "Requirement already satisfied: six in /usr/local/lib/python3.6/dist-packages (from nltk->-r requirements.txt (line 1)) (1.15.0)\n",
            "Requirement already satisfied: preshed<3.1.0,>=3.0.2 in /usr/local/lib/python3.6/dist-packages (from spacy->-r requirements.txt (line 2)) (3.0.4)\n",
            "Requirement already satisfied: murmurhash<1.1.0,>=0.28.0 in /usr/local/lib/python3.6/dist-packages (from spacy->-r requirements.txt (line 2)) (1.0.4)\n",
            "Requirement already satisfied: cymem<2.1.0,>=2.0.2 in /usr/local/lib/python3.6/dist-packages (from spacy->-r requirements.txt (line 2)) (2.0.4)\n",
            "Requirement already satisfied: tqdm<5.0.0,>=4.38.0 in /usr/local/lib/python3.6/dist-packages (from spacy->-r requirements.txt (line 2)) (4.41.1)\n",
            "Requirement already satisfied: catalogue<1.1.0,>=0.0.7 in /usr/local/lib/python3.6/dist-packages (from spacy->-r requirements.txt (line 2)) (1.0.0)\n",
            "Requirement already satisfied: plac<1.2.0,>=0.9.6 in /usr/local/lib/python3.6/dist-packages (from spacy->-r requirements.txt (line 2)) (1.1.3)\n",
            "Requirement already satisfied: srsly<1.1.0,>=1.0.2 in /usr/local/lib/python3.6/dist-packages (from spacy->-r requirements.txt (line 2)) (1.0.4)\n",
            "Requirement already satisfied: blis<0.5.0,>=0.4.0 in /usr/local/lib/python3.6/dist-packages (from spacy->-r requirements.txt (line 2)) (0.4.1)\n",
            "Requirement already satisfied: wasabi<1.1.0,>=0.4.0 in /usr/local/lib/python3.6/dist-packages (from spacy->-r requirements.txt (line 2)) (0.8.0)\n",
            "Requirement already satisfied: numpy>=1.15.0 in /usr/local/lib/python3.6/dist-packages (from spacy->-r requirements.txt (line 2)) (1.18.5)\n",
            "Requirement already satisfied: thinc==7.4.0 in /usr/local/lib/python3.6/dist-packages (from spacy->-r requirements.txt (line 2)) (7.4.0)\n",
            "Requirement already satisfied: setuptools in /usr/local/lib/python3.6/dist-packages (from spacy->-r requirements.txt (line 2)) (50.3.2)\n",
            "Requirement already satisfied: urllib3!=1.25.0,!=1.25.1,<1.26,>=1.21.1 in /usr/local/lib/python3.6/dist-packages (from requests->-r requirements.txt (line 9)) (1.24.3)\n",
            "Requirement already satisfied: chardet<4,>=3.0.2 in /usr/local/lib/python3.6/dist-packages (from requests->-r requirements.txt (line 9)) (3.0.4)\n",
            "Requirement already satisfied: certifi>=2017.4.17 in /usr/local/lib/python3.6/dist-packages (from requests->-r requirements.txt (line 9)) (2020.11.8)\n",
            "Requirement already satisfied: idna<3,>=2.5 in /usr/local/lib/python3.6/dist-packages (from requests->-r requirements.txt (line 9)) (2.10)\n",
            "Requirement already satisfied: PyYAML in /usr/local/lib/python3.6/dist-packages (from vcrpy->-r requirements.txt (line 11)) (3.13)\n",
            "Requirement already satisfied: wrapt in /usr/local/lib/python3.6/dist-packages (from vcrpy->-r requirements.txt (line 11)) (1.12.1)\n",
            "Requirement already satisfied: yarl; python_version >= \"3.6\" in /usr/local/lib/python3.6/dist-packages (from vcrpy->-r requirements.txt (line 11)) (1.6.3)\n",
            "Requirement already satisfied: Pillow>=3.3.0 in /usr/local/lib/python3.6/dist-packages (from newspaper3k->-r requirements.txt (line 14)) (7.0.0)\n",
            "Requirement already satisfied: jieba3k>=0.35.1 in /usr/local/lib/python3.6/dist-packages (from newspaper3k->-r requirements.txt (line 14)) (0.35.1)\n",
            "Requirement already satisfied: tinysegmenter==0.3 in /usr/local/lib/python3.6/dist-packages (from newspaper3k->-r requirements.txt (line 14)) (0.3)\n",
            "Requirement already satisfied: lxml>=3.6.0 in /usr/local/lib/python3.6/dist-packages (from newspaper3k->-r requirements.txt (line 14)) (4.2.6)\n",
            "Requirement already satisfied: feedfinder2>=0.0.4 in /usr/local/lib/python3.6/dist-packages (from newspaper3k->-r requirements.txt (line 14)) (0.0.4)\n",
            "Requirement already satisfied: python-dateutil>=2.5.3 in /usr/local/lib/python3.6/dist-packages (from newspaper3k->-r requirements.txt (line 14)) (2.8.1)\n",
            "Requirement already satisfied: tldextract>=2.0.1 in /usr/local/lib/python3.6/dist-packages (from newspaper3k->-r requirements.txt (line 14)) (3.1.0)\n",
            "Requirement already satisfied: feedparser>=5.2.1 in /usr/local/lib/python3.6/dist-packages (from newspaper3k->-r requirements.txt (line 14)) (6.0.2)\n",
            "Requirement already satisfied: cssselect>=0.9.2 in /usr/local/lib/python3.6/dist-packages (from newspaper3k->-r requirements.txt (line 14)) (1.1.0)\n",
            "Requirement already satisfied: packaging in /usr/local/lib/python3.6/dist-packages (from ktrain->-r requirements.txt (line 20)) (20.4)\n",
            "Requirement already satisfied: whoosh in /usr/local/lib/python3.6/dist-packages (from ktrain->-r requirements.txt (line 20)) (2.7.4)\n",
            "Requirement already satisfied: langdetect in /usr/local/lib/python3.6/dist-packages (from ktrain->-r requirements.txt (line 20)) (1.0.8)\n",
            "Requirement already satisfied: networkx>=2.3 in /usr/local/lib/python3.6/dist-packages (from ktrain->-r requirements.txt (line 20)) (2.5)\n",
            "Requirement already satisfied: matplotlib>=3.0.0 in /usr/local/lib/python3.6/dist-packages (from ktrain->-r requirements.txt (line 20)) (3.2.2)\n",
            "Requirement already satisfied: scikit-learn>=0.21.3 in /usr/local/lib/python3.6/dist-packages (from ktrain->-r requirements.txt (line 20)) (0.22.2.post1)\n",
            "Requirement already satisfied: keras-bert>=0.86.0 in /usr/local/lib/python3.6/dist-packages (from ktrain->-r requirements.txt (line 20)) (0.86.0)\n",
            "Requirement already satisfied: cchardet in /usr/local/lib/python3.6/dist-packages (from ktrain->-r requirements.txt (line 20)) (2.1.7)\n",
            "Requirement already satisfied: ipython in /usr/local/lib/python3.6/dist-packages (from ktrain->-r requirements.txt (line 20)) (5.5.0)\n",
            "Requirement already satisfied: syntok in /usr/local/lib/python3.6/dist-packages (from ktrain->-r requirements.txt (line 20)) (1.3.1)\n",
            "Requirement already satisfied: sentencepiece in /usr/local/lib/python3.6/dist-packages (from ktrain->-r requirements.txt (line 20)) (0.1.94)\n",
            "Requirement already satisfied: pandas>=1.0.1 in /usr/local/lib/python3.6/dist-packages (from ktrain->-r requirements.txt (line 20)) (1.1.4)\n",
            "Requirement already satisfied: joblib in /usr/local/lib/python3.6/dist-packages (from ktrain->-r requirements.txt (line 20)) (0.17.0)\n",
            "Requirement already satisfied: seqeval==0.0.19 in /usr/local/lib/python3.6/dist-packages (from ktrain->-r requirements.txt (line 20)) (0.0.19)\n",
            "Requirement already satisfied: fastprogress>=0.1.21 in /usr/local/lib/python3.6/dist-packages (from ktrain->-r requirements.txt (line 20)) (1.0.0)\n",
            "Requirement already satisfied: jieba in /usr/local/lib/python3.6/dist-packages (from ktrain->-r requirements.txt (line 20)) (0.42.1)\n",
            "Requirement already satisfied: pyphen in /usr/local/lib/python3.6/dist-packages (from textstat->-r requirements.txt (line 22)) (0.10.0)\n",
            "Requirement already satisfied: scipy>=0.18.1 in /usr/local/lib/python3.6/dist-packages (from gensim->-r requirements.txt (line 25)) (1.4.1)\n",
            "Requirement already satisfied: smart-open>=1.2.1 in /usr/local/lib/python3.6/dist-packages (from gensim->-r requirements.txt (line 25)) (3.0.0)\n",
            "Requirement already satisfied: typing-extensions in /usr/local/lib/python3.6/dist-packages (from torch->-r requirements.txt (line 30)) (3.7.4.3)\n",
            "Requirement already satisfied: dataclasses in /usr/local/lib/python3.6/dist-packages (from torch->-r requirements.txt (line 30)) (0.8)\n",
            "Requirement already satisfied: sacremoses in /usr/local/lib/python3.6/dist-packages (from transformers==3.3->-r requirements.txt (line 31)) (0.0.43)\n",
            "Requirement already satisfied: filelock in /usr/local/lib/python3.6/dist-packages (from transformers==3.3->-r requirements.txt (line 31)) (3.0.12)\n",
            "Requirement already satisfied: tokenizers==0.8.1.rc2 in /usr/local/lib/python3.6/dist-packages (from transformers==3.3->-r requirements.txt (line 31)) (0.8.1rc2)\n",
            "Requirement already satisfied: regex!=2019.12.17 in /usr/local/lib/python3.6/dist-packages (from transformers==3.3->-r requirements.txt (line 31)) (2019.12.20)\n",
            "Requirement already satisfied: autogluon.text==0.0.15b20201205 in /usr/local/lib/python3.6/dist-packages (from autogluon==0.0.15b20201205->-r requirements.txt (line 33)) (0.0.15b20201205)\n",
            "Requirement already satisfied: autogluon.tabular==0.0.15b20201205 in /usr/local/lib/python3.6/dist-packages (from autogluon==0.0.15b20201205->-r requirements.txt (line 33)) (0.0.15b20201205)\n",
            "Requirement already satisfied: autogluon.vision==0.0.15b20201205 in /usr/local/lib/python3.6/dist-packages (from autogluon==0.0.15b20201205->-r requirements.txt (line 33)) (0.0.15b20201205)\n",
            "Requirement already satisfied: autogluon.extra==0.0.15b20201205 in /usr/local/lib/python3.6/dist-packages (from autogluon==0.0.15b20201205->-r requirements.txt (line 33)) (0.0.15b20201205)\n",
            "Requirement already satisfied: pytest in /usr/local/lib/python3.6/dist-packages (from autogluon==0.0.15b20201205->-r requirements.txt (line 33)) (3.6.4)\n",
            "Requirement already satisfied: autogluon.core==0.0.15b20201205 in /usr/local/lib/python3.6/dist-packages (from autogluon==0.0.15b20201205->-r requirements.txt (line 33)) (0.0.15b20201205)\n",
            "Requirement already satisfied: autogluon.mxnet==0.0.15b20201205 in /usr/local/lib/python3.6/dist-packages (from autogluon==0.0.15b20201205->-r requirements.txt (line 33)) (0.0.15b20201205)\n",
            "Requirement already satisfied: graphviz<0.9.0,>=0.8.1 in /usr/local/lib/python3.6/dist-packages (from mxnet-cu100->-r requirements.txt (line 34)) (0.8.4)\n",
            "Requirement already satisfied: importlib-metadata>=0.20; python_version < \"3.8\" in /usr/local/lib/python3.6/dist-packages (from catalogue<1.1.0,>=0.0.7->spacy->-r requirements.txt (line 2)) (2.0.0)\n",
            "Requirement already satisfied: multidict>=4.0 in /usr/local/lib/python3.6/dist-packages (from yarl; python_version >= \"3.6\"->vcrpy->-r requirements.txt (line 11)) (5.1.0)\n",
            "Requirement already satisfied: requests-file>=1.4 in /usr/local/lib/python3.6/dist-packages (from tldextract>=2.0.1->newspaper3k->-r requirements.txt (line 14)) (1.5.1)\n",
            "Requirement already satisfied: sgmllib3k in /usr/local/lib/python3.6/dist-packages (from feedparser>=5.2.1->newspaper3k->-r requirements.txt (line 14)) (1.0.0)\n",
            "Requirement already satisfied: pyparsing>=2.0.2 in /usr/local/lib/python3.6/dist-packages (from packaging->ktrain->-r requirements.txt (line 20)) (2.4.7)\n",
            "Requirement already satisfied: decorator>=4.3.0 in /usr/local/lib/python3.6/dist-packages (from networkx>=2.3->ktrain->-r requirements.txt (line 20)) (4.4.2)\n",
            "Requirement already satisfied: cycler>=0.10 in /usr/local/lib/python3.6/dist-packages (from matplotlib>=3.0.0->ktrain->-r requirements.txt (line 20)) (0.10.0)\n",
            "Requirement already satisfied: kiwisolver>=1.0.1 in /usr/local/lib/python3.6/dist-packages (from matplotlib>=3.0.0->ktrain->-r requirements.txt (line 20)) (1.3.1)\n",
            "Requirement already satisfied: Keras>=2.4.3 in /usr/local/lib/python3.6/dist-packages (from keras-bert>=0.86.0->ktrain->-r requirements.txt (line 20)) (2.4.3)\n",
            "Requirement already satisfied: keras-transformer>=0.38.0 in /usr/local/lib/python3.6/dist-packages (from keras-bert>=0.86.0->ktrain->-r requirements.txt (line 20)) (0.38.0)\n",
            "Requirement already satisfied: traitlets>=4.2 in /usr/local/lib/python3.6/dist-packages (from ipython->ktrain->-r requirements.txt (line 20)) (4.3.3)\n",
            "Requirement already satisfied: pickleshare in /usr/local/lib/python3.6/dist-packages (from ipython->ktrain->-r requirements.txt (line 20)) (0.7.5)\n",
            "Requirement already satisfied: pygments in /usr/local/lib/python3.6/dist-packages (from ipython->ktrain->-r requirements.txt (line 20)) (2.6.1)\n",
            "Requirement already satisfied: prompt-toolkit<2.0.0,>=1.0.4 in /usr/local/lib/python3.6/dist-packages (from ipython->ktrain->-r requirements.txt (line 20)) (1.0.18)\n",
            "Requirement already satisfied: simplegeneric>0.8 in /usr/local/lib/python3.6/dist-packages (from ipython->ktrain->-r requirements.txt (line 20)) (0.8.1)\n",
            "Requirement already satisfied: pexpect; sys_platform != \"win32\" in /usr/local/lib/python3.6/dist-packages (from ipython->ktrain->-r requirements.txt (line 20)) (4.8.0)\n",
            "Requirement already satisfied: pytz>=2017.2 in /usr/local/lib/python3.6/dist-packages (from pandas>=1.0.1->ktrain->-r requirements.txt (line 20)) (2018.9)\n",
            "Requirement already satisfied: click in /usr/local/lib/python3.6/dist-packages (from sacremoses->transformers==3.3->-r requirements.txt (line 31)) (7.1.2)\n",
            "Requirement already satisfied: pyarrow<=1.0.0 in /usr/local/lib/python3.6/dist-packages (from autogluon.text==0.0.15b20201205->autogluon==0.0.15b20201205->-r requirements.txt (line 33)) (0.14.1)\n",
            "Requirement already satisfied: autogluon-contrib-nlp in /usr/local/lib/python3.6/dist-packages (from autogluon.text==0.0.15b20201205->autogluon==0.0.15b20201205->-r requirements.txt (line 33)) (0.0.1b20201009)\n",
            "Requirement already satisfied: psutil<=5.7.0,>=5.0.0 in /usr/local/lib/python3.6/dist-packages (from autogluon.tabular==0.0.15b20201205->autogluon==0.0.15b20201205->-r requirements.txt (line 33)) (5.4.8)\n",
            "Requirement already satisfied: gluoncv==0.9.0 in /usr/local/lib/python3.6/dist-packages (from autogluon.tabular==0.0.15b20201205->autogluon==0.0.15b20201205->-r requirements.txt (line 33)) (0.9.0)\n",
            "Requirement already satisfied: lightgbm<4.0,>=3.0 in /usr/local/lib/python3.6/dist-packages (from autogluon.tabular==0.0.15b20201205->autogluon==0.0.15b20201205->-r requirements.txt (line 33)) (3.1.1)\n",
            "Requirement already satisfied: catboost<0.25,>=0.23.0 in /usr/local/lib/python3.6/dist-packages (from autogluon.tabular==0.0.15b20201205->autogluon==0.0.15b20201205->-r requirements.txt (line 33)) (0.24.3)\n",
            "Requirement already satisfied: openml in /usr/local/lib/python3.6/dist-packages (from autogluon.vision==0.0.15b20201205->autogluon==0.0.15b20201205->-r requirements.txt (line 33)) (0.11.0)\n",
            "Requirement already satisfied: d8<1.0,>=0.0.2 in /usr/local/lib/python3.6/dist-packages (from autogluon.vision==0.0.15b20201205->autogluon==0.0.15b20201205->-r requirements.txt (line 33)) (0.0.2)\n",
            "Requirement already satisfied: bokeh in /usr/local/lib/python3.6/dist-packages (from autogluon.extra==0.0.15b20201205->autogluon==0.0.15b20201205->-r requirements.txt (line 33)) (2.1.1)\n",
            "Requirement already satisfied: py>=1.5.0 in /usr/local/lib/python3.6/dist-packages (from pytest->autogluon==0.0.15b20201205->-r requirements.txt (line 33)) (1.9.0)\n",
            "Requirement already satisfied: pluggy<0.8,>=0.5 in /usr/local/lib/python3.6/dist-packages (from pytest->autogluon==0.0.15b20201205->-r requirements.txt (line 33)) (0.7.1)\n",
            "Requirement already satisfied: atomicwrites>=1.0 in /usr/local/lib/python3.6/dist-packages (from pytest->autogluon==0.0.15b20201205->-r requirements.txt (line 33)) (1.4.0)\n",
            "Requirement already satisfied: more-itertools>=4.0.0 in /usr/local/lib/python3.6/dist-packages (from pytest->autogluon==0.0.15b20201205->-r requirements.txt (line 33)) (8.6.0)\n",
            "Requirement already satisfied: attrs>=17.4.0 in /usr/local/lib/python3.6/dist-packages (from pytest->autogluon==0.0.15b20201205->-r requirements.txt (line 33)) (20.3.0)\n",
            "Requirement already satisfied: paramiko>=2.4 in /usr/local/lib/python3.6/dist-packages (from autogluon.core==0.0.15b20201205->autogluon==0.0.15b20201205->-r requirements.txt (line 33)) (2.7.2)\n",
            "Requirement already satisfied: autograd>=1.3 in /usr/local/lib/python3.6/dist-packages (from autogluon.core==0.0.15b20201205->autogluon==0.0.15b20201205->-r requirements.txt (line 33)) (1.3)\n",
            "Requirement already satisfied: scikit-optimize in /usr/local/lib/python3.6/dist-packages (from autogluon.core==0.0.15b20201205->autogluon==0.0.15b20201205->-r requirements.txt (line 33)) (0.8.1)\n",
            "Requirement already satisfied: dask>=2.6.0 in /usr/local/lib/python3.6/dist-packages (from autogluon.core==0.0.15b20201205->autogluon==0.0.15b20201205->-r requirements.txt (line 33)) (2.12.0)\n",
            "Requirement already satisfied: distributed>=2.6.0 in /usr/local/lib/python3.6/dist-packages (from autogluon.core==0.0.15b20201205->autogluon==0.0.15b20201205->-r requirements.txt (line 33)) (2.30.1)\n",
            "Requirement already satisfied: boto3 in /usr/local/lib/python3.6/dist-packages (from autogluon.core==0.0.15b20201205->autogluon==0.0.15b20201205->-r requirements.txt (line 33)) (1.16.33)\n",
            "Requirement already satisfied: cython in /usr/local/lib/python3.6/dist-packages (from autogluon.core==0.0.15b20201205->autogluon==0.0.15b20201205->-r requirements.txt (line 33)) (0.29.21)\n",
            "Requirement already satisfied: tornado>=5.0.1 in /usr/local/lib/python3.6/dist-packages (from autogluon.core==0.0.15b20201205->autogluon==0.0.15b20201205->-r requirements.txt (line 33)) (5.1.1)\n",
            "Requirement already satisfied: ConfigSpace<=0.4.16 in /usr/local/lib/python3.6/dist-packages (from autogluon.core==0.0.15b20201205->autogluon==0.0.15b20201205->-r requirements.txt (line 33)) (0.4.16)\n",
            "Requirement already satisfied: zipp>=0.5 in /usr/local/lib/python3.6/dist-packages (from importlib-metadata>=0.20; python_version < \"3.8\"->catalogue<1.1.0,>=0.0.7->spacy->-r requirements.txt (line 2)) (3.4.0)\n",
            "Requirement already satisfied: h5py in /usr/local/lib/python3.6/dist-packages (from Keras>=2.4.3->keras-bert>=0.86.0->ktrain->-r requirements.txt (line 20)) (2.10.0)\n",
            "Requirement already satisfied: keras-position-wise-feed-forward>=0.6.0 in /usr/local/lib/python3.6/dist-packages (from keras-transformer>=0.38.0->keras-bert>=0.86.0->ktrain->-r requirements.txt (line 20)) (0.6.0)\n",
            "Requirement already satisfied: keras-embed-sim>=0.8.0 in /usr/local/lib/python3.6/dist-packages (from keras-transformer>=0.38.0->keras-bert>=0.86.0->ktrain->-r requirements.txt (line 20)) (0.8.0)\n",
            "Requirement already satisfied: keras-multi-head>=0.27.0 in /usr/local/lib/python3.6/dist-packages (from keras-transformer>=0.38.0->keras-bert>=0.86.0->ktrain->-r requirements.txt (line 20)) (0.27.0)\n",
            "Requirement already satisfied: keras-layer-normalization>=0.14.0 in /usr/local/lib/python3.6/dist-packages (from keras-transformer>=0.38.0->keras-bert>=0.86.0->ktrain->-r requirements.txt (line 20)) (0.14.0)\n",
            "Requirement already satisfied: keras-pos-embd>=0.11.0 in /usr/local/lib/python3.6/dist-packages (from keras-transformer>=0.38.0->keras-bert>=0.86.0->ktrain->-r requirements.txt (line 20)) (0.11.0)\n",
            "Requirement already satisfied: ipython-genutils in /usr/local/lib/python3.6/dist-packages (from traitlets>=4.2->ipython->ktrain->-r requirements.txt (line 20)) (0.2.0)\n",
            "Requirement already satisfied: wcwidth in /usr/local/lib/python3.6/dist-packages (from prompt-toolkit<2.0.0,>=1.0.4->ipython->ktrain->-r requirements.txt (line 20)) (0.2.5)\n",
            "Requirement already satisfied: ptyprocess>=0.5 in /usr/local/lib/python3.6/dist-packages (from pexpect; sys_platform != \"win32\"->ipython->ktrain->-r requirements.txt (line 20)) (0.6.0)\n",
            "Requirement already satisfied: yacs>=0.1.6 in /usr/local/lib/python3.6/dist-packages (from autogluon-contrib-nlp->autogluon.text==0.0.15b20201205->autogluon==0.0.15b20201205->-r requirements.txt (line 33)) (0.1.8)\n",
            "Requirement already satisfied: contextvars in /usr/local/lib/python3.6/dist-packages (from autogluon-contrib-nlp->autogluon.text==0.0.15b20201205->autogluon==0.0.15b20201205->-r requirements.txt (line 33)) (2.4)\n",
            "Requirement already satisfied: sacrebleu in /usr/local/lib/python3.6/dist-packages (from autogluon-contrib-nlp->autogluon.text==0.0.15b20201205->autogluon==0.0.15b20201205->-r requirements.txt (line 33)) (1.4.14)\n",
            "Requirement already satisfied: protobuf in /usr/local/lib/python3.6/dist-packages (from autogluon-contrib-nlp->autogluon.text==0.0.15b20201205->autogluon==0.0.15b20201205->-r requirements.txt (line 33)) (3.12.4)\n",
            "Requirement already satisfied: flake8 in /usr/local/lib/python3.6/dist-packages (from autogluon-contrib-nlp->autogluon.text==0.0.15b20201205->autogluon==0.0.15b20201205->-r requirements.txt (line 33)) (3.8.4)\n",
            "Requirement already satisfied: tensorboardx in /usr/local/lib/python3.6/dist-packages (from gluoncv==0.9.0->autogluon.tabular==0.0.15b20201205->autogluon==0.0.15b20201205->-r requirements.txt (line 33)) (2.1)\n",
            "Requirement already satisfied: portalocker in /usr/local/lib/python3.6/dist-packages (from gluoncv==0.9.0->autogluon.tabular==0.0.15b20201205->autogluon==0.0.15b20201205->-r requirements.txt (line 33)) (2.0.0)\n",
            "Requirement already satisfied: decord in /usr/local/lib/python3.6/dist-packages (from gluoncv==0.9.0->autogluon.tabular==0.0.15b20201205->autogluon==0.0.15b20201205->-r requirements.txt (line 33)) (0.4.2)\n",
            "Requirement already satisfied: opencv-python in /usr/local/lib/python3.6/dist-packages (from gluoncv==0.9.0->autogluon.tabular==0.0.15b20201205->autogluon==0.0.15b20201205->-r requirements.txt (line 33)) (4.1.2.30)\n",
            "Requirement already satisfied: autocfg in /usr/local/lib/python3.6/dist-packages (from gluoncv==0.9.0->autogluon.tabular==0.0.15b20201205->autogluon==0.0.15b20201205->-r requirements.txt (line 33)) (0.0.6)\n",
            "Requirement already satisfied: wheel in /usr/local/lib/python3.6/dist-packages (from lightgbm<4.0,>=3.0->autogluon.tabular==0.0.15b20201205->autogluon==0.0.15b20201205->-r requirements.txt (line 33)) (0.35.1)\n",
            "Requirement already satisfied: plotly in /usr/local/lib/python3.6/dist-packages (from catboost<0.25,>=0.23.0->autogluon.tabular==0.0.15b20201205->autogluon==0.0.15b20201205->-r requirements.txt (line 33)) (4.4.1)\n",
            "Requirement already satisfied: liac-arff>=2.4.0 in /usr/local/lib/python3.6/dist-packages (from openml->autogluon.vision==0.0.15b20201205->autogluon==0.0.15b20201205->-r requirements.txt (line 33)) (2.5.0)\n",
            "Requirement already satisfied: xmltodict in /usr/local/lib/python3.6/dist-packages (from openml->autogluon.vision==0.0.15b20201205->autogluon==0.0.15b20201205->-r requirements.txt (line 33)) (0.12.0)\n",
            "Requirement already satisfied: kaggle in /usr/local/lib/python3.6/dist-packages (from d8<1.0,>=0.0.2->autogluon.vision==0.0.15b20201205->autogluon==0.0.15b20201205->-r requirements.txt (line 33)) (1.5.9)\n",
            "Requirement already satisfied: Jinja2>=2.7 in /usr/local/lib/python3.6/dist-packages (from bokeh->autogluon.extra==0.0.15b20201205->autogluon==0.0.15b20201205->-r requirements.txt (line 33)) (2.11.2)\n",
            "Requirement already satisfied: pynacl>=1.0.1 in /usr/local/lib/python3.6/dist-packages (from paramiko>=2.4->autogluon.core==0.0.15b20201205->autogluon==0.0.15b20201205->-r requirements.txt (line 33)) (1.4.0)\n",
            "Requirement already satisfied: bcrypt>=3.1.3 in /usr/local/lib/python3.6/dist-packages (from paramiko>=2.4->autogluon.core==0.0.15b20201205->autogluon==0.0.15b20201205->-r requirements.txt (line 33)) (3.2.0)\n",
            "Requirement already satisfied: cryptography>=2.5 in /usr/local/lib/python3.6/dist-packages (from paramiko>=2.4->autogluon.core==0.0.15b20201205->autogluon==0.0.15b20201205->-r requirements.txt (line 33)) (3.3.1)\n",
            "Requirement already satisfied: pyaml>=16.9 in /usr/local/lib/python3.6/dist-packages (from scikit-optimize->autogluon.core==0.0.15b20201205->autogluon==0.0.15b20201205->-r requirements.txt (line 33)) (20.4.0)\n",
            "Requirement already satisfied: tblib>=1.6.0 in /usr/local/lib/python3.6/dist-packages (from distributed>=2.6.0->autogluon.core==0.0.15b20201205->autogluon==0.0.15b20201205->-r requirements.txt (line 33)) (1.7.0)\n",
            "Requirement already satisfied: zict>=0.1.3 in /usr/local/lib/python3.6/dist-packages (from distributed>=2.6.0->autogluon.core==0.0.15b20201205->autogluon==0.0.15b20201205->-r requirements.txt (line 33)) (2.0.0)\n",
            "Requirement already satisfied: sortedcontainers!=2.0.0,!=2.0.1 in /usr/local/lib/python3.6/dist-packages (from distributed>=2.6.0->autogluon.core==0.0.15b20201205->autogluon==0.0.15b20201205->-r requirements.txt (line 33)) (2.3.0)\n",
            "Requirement already satisfied: msgpack>=0.6.0 in /usr/local/lib/python3.6/dist-packages (from distributed>=2.6.0->autogluon.core==0.0.15b20201205->autogluon==0.0.15b20201205->-r requirements.txt (line 33)) (1.0.0)\n",
            "Requirement already satisfied: cloudpickle>=1.5.0 in /usr/local/lib/python3.6/dist-packages (from distributed>=2.6.0->autogluon.core==0.0.15b20201205->autogluon==0.0.15b20201205->-r requirements.txt (line 33)) (1.6.0)\n",
            "Requirement already satisfied: toolz>=0.8.2 in /usr/local/lib/python3.6/dist-packages (from distributed>=2.6.0->autogluon.core==0.0.15b20201205->autogluon==0.0.15b20201205->-r requirements.txt (line 33)) (0.11.1)\n",
            "Requirement already satisfied: botocore<1.20.0,>=1.19.33 in /usr/local/lib/python3.6/dist-packages (from boto3->autogluon.core==0.0.15b20201205->autogluon==0.0.15b20201205->-r requirements.txt (line 33)) (1.19.33)\n",
            "Requirement already satisfied: jmespath<1.0.0,>=0.7.1 in /usr/local/lib/python3.6/dist-packages (from boto3->autogluon.core==0.0.15b20201205->autogluon==0.0.15b20201205->-r requirements.txt (line 33)) (0.10.0)\n",
            "Requirement already satisfied: s3transfer<0.4.0,>=0.3.0 in /usr/local/lib/python3.6/dist-packages (from boto3->autogluon.core==0.0.15b20201205->autogluon==0.0.15b20201205->-r requirements.txt (line 33)) (0.3.3)\n",
            "Requirement already satisfied: keras-self-attention==0.46.0 in /usr/local/lib/python3.6/dist-packages (from keras-multi-head>=0.27.0->keras-transformer>=0.38.0->keras-bert>=0.86.0->ktrain->-r requirements.txt (line 20)) (0.46.0)\n",
            "Requirement already satisfied: immutables>=0.9 in /usr/local/lib/python3.6/dist-packages (from contextvars->autogluon-contrib-nlp->autogluon.text==0.0.15b20201205->autogluon==0.0.15b20201205->-r requirements.txt (line 33)) (0.14)\n",
            "Requirement already satisfied: mccabe<0.7.0,>=0.6.0 in /usr/local/lib/python3.6/dist-packages (from flake8->autogluon-contrib-nlp->autogluon.text==0.0.15b20201205->autogluon==0.0.15b20201205->-r requirements.txt (line 33)) (0.6.1)\n",
            "Requirement already satisfied: pyflakes<2.3.0,>=2.2.0 in /usr/local/lib/python3.6/dist-packages (from flake8->autogluon-contrib-nlp->autogluon.text==0.0.15b20201205->autogluon==0.0.15b20201205->-r requirements.txt (line 33)) (2.2.0)\n",
            "Requirement already satisfied: pycodestyle<2.7.0,>=2.6.0a1 in /usr/local/lib/python3.6/dist-packages (from flake8->autogluon-contrib-nlp->autogluon.text==0.0.15b20201205->autogluon==0.0.15b20201205->-r requirements.txt (line 33)) (2.6.0)\n",
            "Requirement already satisfied: retrying>=1.3.3 in /usr/local/lib/python3.6/dist-packages (from plotly->catboost<0.25,>=0.23.0->autogluon.tabular==0.0.15b20201205->autogluon==0.0.15b20201205->-r requirements.txt (line 33)) (1.3.3)\n",
            "Requirement already satisfied: slugify in /usr/local/lib/python3.6/dist-packages (from kaggle->d8<1.0,>=0.0.2->autogluon.vision==0.0.15b20201205->autogluon==0.0.15b20201205->-r requirements.txt (line 33)) (0.0.1)\n",
            "Requirement already satisfied: python-slugify in /usr/local/lib/python3.6/dist-packages (from kaggle->d8<1.0,>=0.0.2->autogluon.vision==0.0.15b20201205->autogluon==0.0.15b20201205->-r requirements.txt (line 33)) (4.0.1)\n",
            "Requirement already satisfied: MarkupSafe>=0.23 in /usr/local/lib/python3.6/dist-packages (from Jinja2>=2.7->bokeh->autogluon.extra==0.0.15b20201205->autogluon==0.0.15b20201205->-r requirements.txt (line 33)) (1.1.1)\n",
            "Requirement already satisfied: cffi>=1.4.1 in /usr/local/lib/python3.6/dist-packages (from pynacl>=1.0.1->paramiko>=2.4->autogluon.core==0.0.15b20201205->autogluon==0.0.15b20201205->-r requirements.txt (line 33)) (1.14.3)\n",
            "Requirement already satisfied: heapdict in /usr/local/lib/python3.6/dist-packages (from zict>=0.1.3->distributed>=2.6.0->autogluon.core==0.0.15b20201205->autogluon==0.0.15b20201205->-r requirements.txt (line 33)) (1.0.1)\n",
            "Requirement already satisfied: text-unidecode>=1.3 in /usr/local/lib/python3.6/dist-packages (from python-slugify->kaggle->d8<1.0,>=0.0.2->autogluon.vision==0.0.15b20201205->autogluon==0.0.15b20201205->-r requirements.txt (line 33)) (1.3)\n",
            "Requirement already satisfied: pycparser in /usr/local/lib/python3.6/dist-packages (from cffi>=1.4.1->pynacl>=1.0.1->paramiko>=2.4->autogluon.core==0.0.15b20201205->autogluon==0.0.15b20201205->-r requirements.txt (line 33)) (2.20)\n",
            "Building wheels for collected packages: Google-Search-API\n",
            "  Building wheel for Google-Search-API (setup.py) ... \u001b[?25l\u001b[?25hdone\n",
            "  Created wheel for Google-Search-API: filename=Google_Search_API-1.1.14-cp36-none-any.whl size=607835 sha256=bf671a909c5c159218281c432f0a10f16107ecbffaec9ea0acafd52878e0a379\n",
            "  Stored in directory: /tmp/pip-ephem-wheel-cache-6382yevy/wheels/9d/dd/52/f744758aa94909328835af5d6f1650c9c3d8cf2e6e8988767a\n",
            "Successfully built Google-Search-API\n"
          ],
          "name": "stdout"
        }
      ]
    },
    {
      "cell_type": "code",
      "metadata": {
        "colab": {
          "base_uri": "https://localhost:8080/"
        },
        "id": "5itgK72D2GDh",
        "outputId": "8fe95bad-9e95-45f7-f8a9-c58ddc00c2f4"
      },
      "source": [
        "# Install requirements\n",
        "# !pip install -r requirements.txt\n",
        "\n",
        "#Blastoff\n",
        "!python -m spacy download en_core_web_lg\n",
        "\n",
        "#Sigma\n",
        "!python -m spacy download en_core_web_md\n",
        "!apt-get install protobuf-compiler\n",
        "\n",
        "#Cereal Killers\n",
        "!apt-get install git-lfs\n",
        "!pip install --upgrade mxnet-cu100\n",
        "\n",
        "# clear_output()\n",
        "# print('Success Installing Libraries')"
      ],
      "execution_count": 7,
      "outputs": [
        {
          "output_type": "stream",
          "text": [
            "Collecting en_core_web_lg==2.2.5\n",
            "\u001b[?25l  Downloading https://github.com/explosion/spacy-models/releases/download/en_core_web_lg-2.2.5/en_core_web_lg-2.2.5.tar.gz (827.9MB)\n",
            "\u001b[K     |████████████████████████████████| 827.9MB 1.2MB/s \n",
            "\u001b[?25hRequirement already satisfied: spacy>=2.2.2 in /usr/local/lib/python3.6/dist-packages (from en_core_web_lg==2.2.5) (2.2.4)\n",
            "Requirement already satisfied: requests<3.0.0,>=2.13.0 in /usr/local/lib/python3.6/dist-packages (from spacy>=2.2.2->en_core_web_lg==2.2.5) (2.23.0)\n",
            "Requirement already satisfied: numpy>=1.15.0 in /usr/local/lib/python3.6/dist-packages (from spacy>=2.2.2->en_core_web_lg==2.2.5) (1.18.5)\n",
            "Requirement already satisfied: setuptools in /usr/local/lib/python3.6/dist-packages (from spacy>=2.2.2->en_core_web_lg==2.2.5) (50.3.2)\n",
            "Requirement already satisfied: wasabi<1.1.0,>=0.4.0 in /usr/local/lib/python3.6/dist-packages (from spacy>=2.2.2->en_core_web_lg==2.2.5) (0.8.0)\n",
            "Requirement already satisfied: blis<0.5.0,>=0.4.0 in /usr/local/lib/python3.6/dist-packages (from spacy>=2.2.2->en_core_web_lg==2.2.5) (0.4.1)\n",
            "Requirement already satisfied: cymem<2.1.0,>=2.0.2 in /usr/local/lib/python3.6/dist-packages (from spacy>=2.2.2->en_core_web_lg==2.2.5) (2.0.4)\n",
            "Requirement already satisfied: preshed<3.1.0,>=3.0.2 in /usr/local/lib/python3.6/dist-packages (from spacy>=2.2.2->en_core_web_lg==2.2.5) (3.0.4)\n",
            "Requirement already satisfied: plac<1.2.0,>=0.9.6 in /usr/local/lib/python3.6/dist-packages (from spacy>=2.2.2->en_core_web_lg==2.2.5) (1.1.3)\n",
            "Requirement already satisfied: murmurhash<1.1.0,>=0.28.0 in /usr/local/lib/python3.6/dist-packages (from spacy>=2.2.2->en_core_web_lg==2.2.5) (1.0.4)\n",
            "Requirement already satisfied: tqdm<5.0.0,>=4.38.0 in /usr/local/lib/python3.6/dist-packages (from spacy>=2.2.2->en_core_web_lg==2.2.5) (4.41.1)\n",
            "Requirement already satisfied: thinc==7.4.0 in /usr/local/lib/python3.6/dist-packages (from spacy>=2.2.2->en_core_web_lg==2.2.5) (7.4.0)\n",
            "Requirement already satisfied: srsly<1.1.0,>=1.0.2 in /usr/local/lib/python3.6/dist-packages (from spacy>=2.2.2->en_core_web_lg==2.2.5) (1.0.4)\n",
            "Requirement already satisfied: catalogue<1.1.0,>=0.0.7 in /usr/local/lib/python3.6/dist-packages (from spacy>=2.2.2->en_core_web_lg==2.2.5) (1.0.0)\n",
            "Requirement already satisfied: idna<3,>=2.5 in /usr/local/lib/python3.6/dist-packages (from requests<3.0.0,>=2.13.0->spacy>=2.2.2->en_core_web_lg==2.2.5) (2.10)\n",
            "Requirement already satisfied: chardet<4,>=3.0.2 in /usr/local/lib/python3.6/dist-packages (from requests<3.0.0,>=2.13.0->spacy>=2.2.2->en_core_web_lg==2.2.5) (3.0.4)\n",
            "Requirement already satisfied: urllib3!=1.25.0,!=1.25.1,<1.26,>=1.21.1 in /usr/local/lib/python3.6/dist-packages (from requests<3.0.0,>=2.13.0->spacy>=2.2.2->en_core_web_lg==2.2.5) (1.24.3)\n",
            "Requirement already satisfied: certifi>=2017.4.17 in /usr/local/lib/python3.6/dist-packages (from requests<3.0.0,>=2.13.0->spacy>=2.2.2->en_core_web_lg==2.2.5) (2020.11.8)\n",
            "Requirement already satisfied: importlib-metadata>=0.20; python_version < \"3.8\" in /usr/local/lib/python3.6/dist-packages (from catalogue<1.1.0,>=0.0.7->spacy>=2.2.2->en_core_web_lg==2.2.5) (2.0.0)\n",
            "Requirement already satisfied: zipp>=0.5 in /usr/local/lib/python3.6/dist-packages (from importlib-metadata>=0.20; python_version < \"3.8\"->catalogue<1.1.0,>=0.0.7->spacy>=2.2.2->en_core_web_lg==2.2.5) (3.4.0)\n",
            "Building wheels for collected packages: en-core-web-lg\n",
            "  Building wheel for en-core-web-lg (setup.py) ... \u001b[?25l\u001b[?25hdone\n",
            "  Created wheel for en-core-web-lg: filename=en_core_web_lg-2.2.5-cp36-none-any.whl size=829180944 sha256=4f94e34200948cd8ef6287aab93152462ed5144d7f55791dad9821493ed53abd\n",
            "  Stored in directory: /tmp/pip-ephem-wheel-cache-zb5yx4iz/wheels/2a/c1/a6/fc7a877b1efca9bc6a089d6f506f16d3868408f9ff89f8dbfc\n",
            "Successfully built en-core-web-lg\n",
            "Installing collected packages: en-core-web-lg\n",
            "Successfully installed en-core-web-lg-2.2.5\n",
            "\u001b[38;5;2m✔ Download and installation successful\u001b[0m\n",
            "You can now load the model via spacy.load('en_core_web_lg')\n",
            "Collecting en_core_web_md==2.2.5\n",
            "\u001b[?25l  Downloading https://github.com/explosion/spacy-models/releases/download/en_core_web_md-2.2.5/en_core_web_md-2.2.5.tar.gz (96.4MB)\n",
            "\u001b[K     |████████████████████████████████| 96.4MB 1.2MB/s \n",
            "\u001b[?25hRequirement already satisfied: spacy>=2.2.2 in /usr/local/lib/python3.6/dist-packages (from en_core_web_md==2.2.5) (2.2.4)\n",
            "Requirement already satisfied: thinc==7.4.0 in /usr/local/lib/python3.6/dist-packages (from spacy>=2.2.2->en_core_web_md==2.2.5) (7.4.0)\n",
            "Requirement already satisfied: numpy>=1.15.0 in /usr/local/lib/python3.6/dist-packages (from spacy>=2.2.2->en_core_web_md==2.2.5) (1.18.5)\n",
            "Requirement already satisfied: plac<1.2.0,>=0.9.6 in /usr/local/lib/python3.6/dist-packages (from spacy>=2.2.2->en_core_web_md==2.2.5) (1.1.3)\n",
            "Requirement already satisfied: requests<3.0.0,>=2.13.0 in /usr/local/lib/python3.6/dist-packages (from spacy>=2.2.2->en_core_web_md==2.2.5) (2.23.0)\n",
            "Requirement already satisfied: wasabi<1.1.0,>=0.4.0 in /usr/local/lib/python3.6/dist-packages (from spacy>=2.2.2->en_core_web_md==2.2.5) (0.8.0)\n",
            "Requirement already satisfied: setuptools in /usr/local/lib/python3.6/dist-packages (from spacy>=2.2.2->en_core_web_md==2.2.5) (50.3.2)\n",
            "Requirement already satisfied: tqdm<5.0.0,>=4.38.0 in /usr/local/lib/python3.6/dist-packages (from spacy>=2.2.2->en_core_web_md==2.2.5) (4.41.1)\n",
            "Requirement already satisfied: cymem<2.1.0,>=2.0.2 in /usr/local/lib/python3.6/dist-packages (from spacy>=2.2.2->en_core_web_md==2.2.5) (2.0.4)\n",
            "Requirement already satisfied: preshed<3.1.0,>=3.0.2 in /usr/local/lib/python3.6/dist-packages (from spacy>=2.2.2->en_core_web_md==2.2.5) (3.0.4)\n",
            "Requirement already satisfied: murmurhash<1.1.0,>=0.28.0 in /usr/local/lib/python3.6/dist-packages (from spacy>=2.2.2->en_core_web_md==2.2.5) (1.0.4)\n",
            "Requirement already satisfied: catalogue<1.1.0,>=0.0.7 in /usr/local/lib/python3.6/dist-packages (from spacy>=2.2.2->en_core_web_md==2.2.5) (1.0.0)\n",
            "Requirement already satisfied: srsly<1.1.0,>=1.0.2 in /usr/local/lib/python3.6/dist-packages (from spacy>=2.2.2->en_core_web_md==2.2.5) (1.0.4)\n",
            "Requirement already satisfied: blis<0.5.0,>=0.4.0 in /usr/local/lib/python3.6/dist-packages (from spacy>=2.2.2->en_core_web_md==2.2.5) (0.4.1)\n",
            "Requirement already satisfied: chardet<4,>=3.0.2 in /usr/local/lib/python3.6/dist-packages (from requests<3.0.0,>=2.13.0->spacy>=2.2.2->en_core_web_md==2.2.5) (3.0.4)\n",
            "Requirement already satisfied: certifi>=2017.4.17 in /usr/local/lib/python3.6/dist-packages (from requests<3.0.0,>=2.13.0->spacy>=2.2.2->en_core_web_md==2.2.5) (2020.11.8)\n",
            "Requirement already satisfied: idna<3,>=2.5 in /usr/local/lib/python3.6/dist-packages (from requests<3.0.0,>=2.13.0->spacy>=2.2.2->en_core_web_md==2.2.5) (2.10)\n",
            "Requirement already satisfied: urllib3!=1.25.0,!=1.25.1,<1.26,>=1.21.1 in /usr/local/lib/python3.6/dist-packages (from requests<3.0.0,>=2.13.0->spacy>=2.2.2->en_core_web_md==2.2.5) (1.24.3)\n",
            "Requirement already satisfied: importlib-metadata>=0.20; python_version < \"3.8\" in /usr/local/lib/python3.6/dist-packages (from catalogue<1.1.0,>=0.0.7->spacy>=2.2.2->en_core_web_md==2.2.5) (2.0.0)\n",
            "Requirement already satisfied: zipp>=0.5 in /usr/local/lib/python3.6/dist-packages (from importlib-metadata>=0.20; python_version < \"3.8\"->catalogue<1.1.0,>=0.0.7->spacy>=2.2.2->en_core_web_md==2.2.5) (3.4.0)\n",
            "Building wheels for collected packages: en-core-web-md\n",
            "  Building wheel for en-core-web-md (setup.py) ... \u001b[?25l\u001b[?25hdone\n",
            "  Created wheel for en-core-web-md: filename=en_core_web_md-2.2.5-cp36-none-any.whl size=98051305 sha256=d31f20e6de367191bc95c08004883bfc2184bea4f1d3f9fba4120923a6603ec2\n",
            "  Stored in directory: /tmp/pip-ephem-wheel-cache-89kdf0nb/wheels/df/94/ad/f5cf59224cea6b5686ac4fd1ad19c8a07bc026e13c36502d81\n",
            "Successfully built en-core-web-md\n",
            "Installing collected packages: en-core-web-md\n",
            "Successfully installed en-core-web-md-2.2.5\n",
            "\u001b[38;5;2m✔ Download and installation successful\u001b[0m\n",
            "You can now load the model via spacy.load('en_core_web_md')\n",
            "Reading package lists... Done\n",
            "Building dependency tree       \n",
            "Reading state information... Done\n",
            "protobuf-compiler is already the newest version (3.0.0-9.1ubuntu1).\n",
            "0 upgraded, 0 newly installed, 0 to remove and 14 not upgraded.\n",
            "Reading package lists... Done\n",
            "Building dependency tree       \n",
            "Reading state information... Done\n",
            "The following NEW packages will be installed:\n",
            "  git-lfs\n",
            "0 upgraded, 1 newly installed, 0 to remove and 14 not upgraded.\n",
            "Need to get 2,129 kB of archives.\n",
            "After this operation, 7,662 kB of additional disk space will be used.\n",
            "Get:1 http://archive.ubuntu.com/ubuntu bionic/universe amd64 git-lfs amd64 2.3.4-1 [2,129 kB]\n",
            "Fetched 2,129 kB in 0s (16.2 MB/s)\n",
            "Selecting previously unselected package git-lfs.\n",
            "(Reading database ... 144865 files and directories currently installed.)\n",
            "Preparing to unpack .../git-lfs_2.3.4-1_amd64.deb ...\n",
            "Unpacking git-lfs (2.3.4-1) ...\n",
            "Setting up git-lfs (2.3.4-1) ...\n",
            "Processing triggers for man-db (2.8.3-2ubuntu0.1) ...\n",
            "Requirement already up-to-date: mxnet-cu100 in /usr/local/lib/python3.6/dist-packages (1.7.0)\n",
            "Requirement already satisfied, skipping upgrade: requests<3,>=2.20.0 in /usr/local/lib/python3.6/dist-packages (from mxnet-cu100) (2.23.0)\n",
            "Requirement already satisfied, skipping upgrade: numpy<2.0.0,>1.16.0 in /usr/local/lib/python3.6/dist-packages (from mxnet-cu100) (1.18.5)\n",
            "Requirement already satisfied, skipping upgrade: graphviz<0.9.0,>=0.8.1 in /usr/local/lib/python3.6/dist-packages (from mxnet-cu100) (0.8.4)\n",
            "Requirement already satisfied, skipping upgrade: certifi>=2017.4.17 in /usr/local/lib/python3.6/dist-packages (from requests<3,>=2.20.0->mxnet-cu100) (2020.11.8)\n",
            "Requirement already satisfied, skipping upgrade: urllib3!=1.25.0,!=1.25.1,<1.26,>=1.21.1 in /usr/local/lib/python3.6/dist-packages (from requests<3,>=2.20.0->mxnet-cu100) (1.24.3)\n",
            "Requirement already satisfied, skipping upgrade: idna<3,>=2.5 in /usr/local/lib/python3.6/dist-packages (from requests<3,>=2.20.0->mxnet-cu100) (2.10)\n",
            "Requirement already satisfied, skipping upgrade: chardet<4,>=3.0.2 in /usr/local/lib/python3.6/dist-packages (from requests<3,>=2.20.0->mxnet-cu100) (3.0.4)\n"
          ],
          "name": "stdout"
        }
      ]
    },
    {
      "cell_type": "code",
      "metadata": {
        "id": "-a7blI8t4f7c"
      },
      "source": [
        "#RESTART RUNTIME\n",
        "import os\n",
        "os.kill(os.getpid(), 9)"
      ],
      "execution_count": null,
      "outputs": []
    },
    {
      "cell_type": "markdown",
      "metadata": {
        "id": "Szn3j9U816Bv"
      },
      "source": [
        "# Download Repos"
      ]
    },
    {
      "cell_type": "code",
      "metadata": {
        "id": "yEZFScB0osBe"
      },
      "source": [
        "from google_drive_downloader import GoogleDriveDownloader as gdd\n",
        "from IPython.display import Image, clear_output"
      ],
      "execution_count": 1,
      "outputs": []
    },
    {
      "cell_type": "code",
      "metadata": {
        "id": "HKAd_rjrAbTQ",
        "colab": {
          "base_uri": "https://localhost:8080/"
        },
        "outputId": "cb91d6e6-f3ff-4143-e6fd-ea3c1fe02dde"
      },
      "source": [
        "#Blastoff - Content Statistics\n",
        "!git clone https://github.com/Wayne122/Content_Statistics_Demo.git\n",
        "\n",
        "#Blastoff - Sensationalism\n",
        "!git clone https://github.com/roanacla/nlp_sensationalism.git\n",
        "\n",
        "#Blastoff - Context Veracity\n",
        "!git clone https://github.com/snarvekark/Veracity_Factor.git\n",
        "\n",
        "#GirlsWhoCode - Toxicity\n",
        "gdd.download_file_from_google_drive(file_id='1aNCQPXSpxnTUbqkO1Jvb7c2naTpaCkJ5',\n",
        "                                  dest_path='./toxicityclass1.py',\n",
        "                                  unzip=False)\n",
        "#GirlsWhoCode - Topics\n",
        "gdd.download_file_from_google_drive(file_id='1Fe9s1tzkxyI1AWqWTwhkhaZaGD34kLCz',\n",
        "                                  dest_path='./Topics_with_LDA_Bigram.py',\n",
        "                                  unzip=False)\n",
        "#GirlsWhoCode - Bias\n",
        "gdd.download_file_from_google_drive(file_id='18BVbpsbJ_JIWWzdKem1KJMcq89npmBNF',\n",
        "                                  dest_path='./bias.py',\n",
        "                                  unzip=False)\n",
        "\n",
        "#GirlsWhoCode - Political Afiliation\n",
        "gdd.download_file_from_google_drive(file_id='10BFSTGTiUtTTkq_FiA_ktbs0b05sUTp1',\n",
        "                                  dest_path='./girlswhocode_political_affiliation.py',\n",
        "                                  unzip=False)\n",
        "\n",
        "#Feature Finders - Stance Detection\n",
        "gdd.download_file_from_google_drive(file_id='1vmn6f-KE31jIZ2gANAm9bUV6BZvJ3HCC',\n",
        "                                  dest_path='./AlternusVeraStanceDetection.py',\n",
        "                                  unzip=False)\n",
        "\n",
        "#Feature Finders - Toxicity\n",
        "gdd.download_file_from_google_drive(file_id='1YmNAPeGwX3lGI_qrMIqWKTrhuEZ6wfGD',\n",
        "                                  dest_path='./alternusveratoxicity.py',\n",
        "                                  unzip=False)\n",
        "\n",
        "#Feature Finders - Reliable Source\n",
        "gdd.download_file_from_google_drive(file_id='14p0H4KIDNl8ICZKsC25vHvrarnlwzoiY',\n",
        "                                  dest_path='./AlternusVeraReliableSource.py',\n",
        "                                  unzip=False)\n",
        "\n",
        "#Feature Finders - Title vs Body\n",
        "gdd.download_file_from_google_drive(file_id='1CyMWLWWksLLKlDkqtdSQNBJNUnwirwYS',\n",
        "                                  dest_path='./team_features_finders_factor_title_vs_body.py',\n",
        "                                  unzip=False)\n",
        "\n",
        "#Feature finders\n",
        "gdd.download_file_from_google_drive(file_id='19lFvSh2DIs9QAKQ9JbjySH4psWutny_a',\n",
        "                                  dest_path='./GoogleNews-vectors-negative300.bin',\n",
        "                                  unzip=False)\n",
        "gdd.download_file_from_google_drive(file_id='1isyawf2DG4TiQw2eLtt4_c6FfjYwZL_7',\n",
        "                                  dest_path='./titlevsbody_logistic_proba.pkl',\n",
        "                                  unzip=False)\n",
        "\n",
        "#Team Seakers - BERTMCC\n",
        "gdd.download_file_from_google_drive(file_id='104z4L5oaSJuNOo8--j3HYVBIqKLy8kzT',\n",
        "                                  dest_path='./seekers_bertmcc.py',\n",
        "                                  unzip=False)\n",
        "\n",
        "#Team Seakers - Stance Detection\n",
        "gdd.download_file_from_google_drive(file_id='18xB6HkP_hc8oHz2B8Gv2RctxST-dvl0l',\n",
        "                                  dest_path='./seekers_stancedetection.py',\n",
        "                                  unzip=False)\n",
        "\n",
        "#Team Seakers - Click Bait\n",
        "gdd.download_file_from_google_drive(file_id='1bnMx6EnB5OCFemHnoyQJg6rDWFI02BPn',\n",
        "                                  dest_path='./seekers_clickbait.py',\n",
        "                                  unzip=False)\n",
        "\n",
        "#Team Seakers - Spam\n",
        "gdd.download_file_from_google_drive(file_id='1foTcE9fWF6aaEndSe_nNrWIPOh15jzCz',\n",
        "                                  dest_path='./seekers_spam.py',\n",
        "                                  unzip=False)\n",
        "\n",
        "\n",
        "#TrailBlazers - Misleading Intentions\n",
        "!git clone https://github.com/jignesh-sjsu/AlternusVera_MisleadingIntention.git\n",
        "\n",
        "#TrailBlazers - Education\n",
        "!git clone https://github.com/pankajhpatil/AlternusVera_Education.git\n",
        "\n",
        "#TrailBlazers - Event Coverage\n",
        "!git clone https://github.com/Manish0112/AlternusVera_EventDetection.git\n",
        "\n",
        "#GoML - News Coverage, Stance Detection, ClickBait, Writing Style\n",
        "gdd.download_file_from_google_drive(file_id='1n8YWeStJV4OTfccwEli57PS9pB5SzNmv',\n",
        "                                  dest_path='./go_ml.py',\n",
        "                                  unzip=False)\n",
        "\n",
        "#Sigma - MaliciousAccount, Credibility, Network Based Predictor, Verifiable Authenticity\n",
        "!git clone https://github.com/sacefe/cmpe257_AlternusVera_SIGMA.git\n",
        "\n",
        "\n",
        "#Cereal Killers - Social Credibility, Psychological Utility, BERT \n",
        "!git clone https://github.com/jedvillan/CerealKillers_AlternusVera.git\n",
        "% cd CerealKillers_AlternusVera\n",
        "! git fetch\n",
        "! git pull\n",
        "! git lfs pull\n",
        "% cd /content/\n",
        "\n",
        "#The Shining Unicorns\n",
        "gdd.download_file_from_google_drive(file_id='1T04flloQktz6hOEOoboHvG2YzA_CcKTT',\n",
        "                                  dest_path='./finalteamintegration.py',\n",
        "                                  unzip=False)\n",
        "\n",
        "gdd.download_file_from_google_drive(file_id='1yR8bEhdPXlJdw6VLekQHWOmoDpGQre3b',\n",
        "                                  dest_path='./Copy of GoogleNews-vectors-negative300.bin.gz',\n",
        "                                  unzip=False)\n",
        "\n",
        "clear_output()\n",
        "print('Success clonning repos and downloding files')"
      ],
      "execution_count": 19,
      "outputs": [
        {
          "output_type": "stream",
          "text": [
            "Success clonning repos and downloding files\n"
          ],
          "name": "stdout"
        }
      ]
    },
    {
      "cell_type": "code",
      "metadata": {
        "colab": {
          "base_uri": "https://localhost:8080/"
        },
        "id": "Tz8WcHhZe6sm",
        "outputId": "487d8058-fd45-401b-9835-f3b9f5852154"
      },
      "source": [
        "import sys\n",
        "import os\n",
        "#Blastoff\n",
        "sys.path.append('/content/Content_Statistics_Demo')\n",
        "sys.path.append('/content/nlp_sensationalism')\n",
        "sys.path.append('/content/Veracity_Factor')\n",
        "\n",
        "#Trail Blaizers\n",
        "sys.path.append('/content/AlternusVera_MisleadingIntention')\n",
        "sys.path.append('/content/AlternusVera_Education')\n",
        "sys.path.append('/content/AlternusVera_EventDetection')\n",
        "\n",
        "#Cereal Killers\n",
        "sys.path.append('/content/cmpe257_AlternusVera_SIGMA')\n",
        "sys.path.append('/content/CerealKillers_AlternusVera/BERT')\n",
        "sys.path.append('/content/CerealKillers_AlternusVera/SC')\n",
        "sys.path.append('/content/CerealKillers_AlternusVera/PU')\n",
        "\n",
        "print('Success adding paths to the system')"
      ],
      "execution_count": 3,
      "outputs": [
        {
          "output_type": "stream",
          "text": [
            "Success adding paths to the system\n"
          ],
          "name": "stdout"
        }
      ]
    },
    {
      "cell_type": "code",
      "metadata": {
        "colab": {
          "base_uri": "https://localhost:8080/"
        },
        "id": "6yc9Q96XNZiy",
        "outputId": "c2c7f801-025d-46cf-a1f6-ce8fb6708e2b"
      },
      "source": [
        "#Imports\n",
        "import torch\n",
        "import nltk\n",
        "nltk.download('wordnet')\n",
        "nltk.download('punkt')\n",
        "import math\n",
        "import pickle\n",
        "import time\n",
        "import spacy\n",
        "from spacy.matcher import Matcher \n",
        "from spacy.tokens import Span\n",
        "import en_core_web_md\n",
        "\n",
        "nlp = en_core_web_md.load()\n",
        "Loaded_en_core = True\n",
        "\n",
        "clear_output()\n",
        "print('Success importing dependencies')"
      ],
      "execution_count": 4,
      "outputs": [
        {
          "output_type": "stream",
          "text": [
            "Success importing dependencies\n"
          ],
          "name": "stdout"
        }
      ]
    },
    {
      "cell_type": "markdown",
      "metadata": {
        "id": "QHL9hWcX17qr"
      },
      "source": [
        "#Instantiate"
      ]
    },
    {
      "cell_type": "code",
      "metadata": {
        "colab": {
          "base_uri": "https://localhost:8080/"
        },
        "id": "033XN2S9Gd84",
        "outputId": "6d496c4e-4723-4bf2-a73a-7e2c05fbf6c7"
      },
      "source": [
        "#Blastoff - Content Statistics\n",
        "from Blastoff_Content_Statistics import BlastoffContentStatistics\n",
        "bcs = BlastoffContentStatistics()\n",
        "\n",
        "#Blastoff - Sensationalism\n",
        "from sensaScorer import SensaScorer\n",
        "sensa = SensaScorer()\n",
        "\n",
        "#Blastoff - Context Veracity\n",
        "from context_veracity import Context_Veracity\n",
        "cv = Context_Veracity()\n",
        "\n",
        "#GirlsWhoCode - Toxicity\n",
        "from toxicityclass1 import GirlsWhoCode_Toxicity\n",
        "\n",
        "#GirlsWhoCode - Topics\n",
        "from Topics_with_LDA_Bigram import Topics_with_LDA_Bigram\n",
        "\n",
        "#GirlsWhoCode - Bias\n",
        "from bias import Gwc_Bias\n",
        "\n",
        "#GirlsWhoCode - Political Afiliation\n",
        "from girlswhocode_political_affiliation import Girlswhocode_PoliticalAfiiliation\n",
        "\n",
        "#Feature Finders - Stance Detection\n",
        "import AlternusVeraStanceDetection as sp\n",
        "predictStance = sp.StanceDitectionFeature()\n",
        "\n",
        "#Feature Finders - Toxicity\n",
        "import alternusveratoxicity as tx\n",
        "predictToxicity = tx.ToxicityFeature()\n",
        "\n",
        "#Feature Finders - Reliable Source\n",
        "import AlternusVeraReliableSource as rs\n",
        "reliablesource = rs.ReliableSource()\n",
        "\n",
        "#Feature Finders - Title vs Body\n",
        "LABELS = ['agree', 'disagree', 'discuss', 'unrelated']\n",
        "import team_features_finders_factor_title_vs_body as titlevsbody\n",
        "tvb = titlevsbody.TitleVsBody()\n",
        "\n",
        "#Team Seekers - BERT\n",
        "from seekers_bertmcc import Seekers_BertMcc\n",
        "\n",
        "#Team Seekers - Stance Detection\n",
        "from seekers_stancedetection import Seekers_StanceDetection\n",
        "\n",
        "#Team Seekers - ClickBait\n",
        "from seekers_clickbait import Seekers_ClickBait\n",
        "\n",
        "#Team Seekers - Spam\n",
        "from seekers_spam import Seekers_Spam\n",
        "\n",
        "#TrailBlazers - Misleading Intentions\n",
        "import alternusvera_misleading_intentions as MI\n",
        "\n",
        "#TrailBlazers - Education\n",
        "import alternusvera_education as AVE\n",
        "\n",
        "#TrailBlazers - Event Coverage\n",
        "import EventCoverage as EC\n",
        "\n",
        "#GoML - News Coverage, Stance Detection, ClickBait, Writing Style\n",
        "from go_ml import *\n",
        "\n",
        "#Sigma - MaliciousAccount\n",
        "from SIGMAmaliciousAccount import MalicousAccount\n",
        "maObject = MalicousAccount() \n",
        "malicious_accountCls = maObject.load(model2load=\"/content/cmpe257_AlternusVera_SIGMA/malicious_account_MLP.pkl\")\n",
        "\n",
        "#Sigma - Credibility\n",
        "from SIGMAcredibility  import Credibility\n",
        "credObject = Credibility() \n",
        "credCls = credObject.load(model2load=\"/content/cmpe257_AlternusVera_SIGMA/credibility_model.pkl\")\n",
        "\n",
        "#Sigma Network Based Predictor\n",
        "from SIGMA_networkbased  import NetworkBasedPredictor\n",
        "nb = NetworkBasedPredictor()\n",
        "nb.load('/content/cmpe257_AlternusVera_SIGMA/networkbased.pkl')\n",
        "\n",
        "#Sigma Verifiable Authenticity\n",
        "from SIGMAauthenticity  import VerifiableAuthenticity\n",
        "va = VerifiableAuthenticity()\n",
        "\n",
        "#Ceral Killers - Social Credibility, Psychological Utility, BERT\n",
        "import socialcredibility as SC \n",
        "import psychologicalutility as PU\n",
        "import bert as BT\n",
        "sc = SC.CerealKillers_SocialCredibility()\n",
        "pu = PU.CerealKillers_PsychologicalUtility()\n",
        "bt = BT.CerealKillers_SentimentClassifier()\n",
        "\n",
        "\n",
        "#The Shining Unicorns - Echo Chamber, Content Statistics\n",
        "import finalteamintegration as EM\n",
        "echoChamberMaster1=EM.EchoChamberMaster()\n",
        "contentStatistics1=EM.ContentStatistics()\n",
        "\n",
        "\n",
        "clear_output()\n",
        "print('Success Instantiating Factors')"
      ],
      "execution_count": 20,
      "outputs": [
        {
          "output_type": "stream",
          "text": [
            "Success Instantiating Factors\n"
          ],
          "name": "stdout"
        }
      ]
    },
    {
      "cell_type": "markdown",
      "metadata": {
        "id": "uZ1FXU_sTeb5"
      },
      "source": [
        "# Before Poli"
      ]
    },
    {
      "cell_type": "code",
      "metadata": {
        "id": "W5u_4iKQTddb"
      },
      "source": [
        "#Feature finders\n",
        "\n",
        "# LABELS = ['agree', 'disagree', 'discuss', 'unrelated']\n",
        "def get_titleVsBodyScore(val): # input int, return between 0 and 1, being 0 = Fake,  1 = True\n",
        "    map = {'0': 1., '1': .2, '2': .8, '3': 0.}\n",
        "\n",
        "    return map[str(val)]\n",
        "\n",
        "# Trail Blaizers\n",
        "Label_map={'barely-true': 0,\n",
        "           'false' : 1,\n",
        "           'full-flop' : 2,\n",
        "           'half-flip' : 3,\n",
        "           'half-true' : 4,\n",
        "           'mostly-true' : 5,\n",
        "           'pants-fire' : 6,\n",
        "           'true' : 7}\n",
        "\n"
      ],
      "execution_count": null,
      "outputs": []
    },
    {
      "cell_type": "markdown",
      "metadata": {
        "id": "PfTVRNjS195_"
      },
      "source": [
        "#Remove content"
      ]
    }
  ]
}